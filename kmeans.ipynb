{
 "cells": [
  {
   "cell_type": "markdown",
   "metadata": {},
   "source": [
    "## Primeiramente temos as funções necessárias para o cálculo do nosso Kmeans"
   ]
  },
  {
   "cell_type": "code",
   "execution_count": 1,
   "metadata": {},
   "outputs": [],
   "source": [
    "import numpy as np\n",
    "import copy\n",
    "import math\n",
    "import random \n",
    "def turnIntoMatrix(filepath):\n",
    "    file = open(filepath, \"r\")\n",
    "    lines = file.readlines()\n",
    "    file.close()\n",
    "    \n",
    "    ##Preparing the list of lists \n",
    "    matrix = []\n",
    "    \n",
    "    for line in lines:\n",
    "        ##sample will store all the values found \n",
    "        ##in a line which represents a sample when the string values were turned into numbers \n",
    "        sample = []\n",
    "        line = line.replace(\"\\n\", \"\")\n",
    "        split = line.split(\",\")\n",
    "        for value in split:\n",
    "            sample.append(float(value))\n",
    "        matrix.append(sample)\n",
    "    return matrix \n",
    "def euclideanDistance(point1 , point2): \n",
    "    if len(point1) != len(point2):\n",
    "        raise Exception(\"List lenght doesn't match\")\n",
    "    else: \n",
    "        i = 0\n",
    "        squareSum= 0\n",
    "        eucliDistance = 0\n",
    "        while i < len(point1):\n",
    "            squareSum = squareSum +pow(point1[i] - point2[i],2)\n",
    "            i = i+1\n",
    "        eucliDistance = pow(squareSum, 0.5)\n",
    "        return eucliDistance\n",
    "\n",
    "def getRandomDataSet(matrix, percentage):\n",
    "    numberOfSamples = int(round(percentage*len(matrix)))\n",
    "    trainingSet = random.sample(matrix, numberOfSamples)\n",
    "    testSet = [elem for elem in matrix if elem not in trainingSet]\n",
    "    return trainingSet, testSet\n",
    "\n",
    "def pca(matrix, Q):\n",
    "    #calculate the mean and subtract from all lines of the original matrix \n",
    "    mean = np.mean(matrix[:, :34], axis = 0)\n",
    "    matriz_meaned = subtract(matrix, mean)\n",
    "    #extract covariance matrix from the meaned matrix \n",
    "    cov_matrix = np.cov(matriz_meaned[:, :34], rowvar = False)\n",
    "    eigen_values, eigen_vectors = np.linalg.eigh(cov_matrix)\n",
    "  \n",
    "    #sort the eigen_values in descending order \n",
    "    eigen_values_args_sorted = np.argsort(eigen_values)[::-1]\n",
    "    eigen_values_sorted = eigen_values[eigen_values_args_sorted]\n",
    "    #similarly sort the eigenvectors \n",
    "    eigen_vectors_sorted = eigen_vectors[:, eigen_values_args_sorted]\n",
    "    #reduce matrix\n",
    "    eigen_vector_sub = eigen_vectors_sorted[:, 0:Q]\n",
    "    reduced_matrix = np.dot(eigen_vector_sub.transpose(), matriz_meaned[:,:34].transpose()).transpose()\n",
    "    reduced_matrix = np.append(reduced_matrix, matriz_meaned[:,34:], axis = 1)\n",
    "    #reduced_matrix = np.append(reduced_matrix, )\n",
    "    return reduced_matrix, eigen_values_sorted, eigen_vector_sub\n",
    "\n",
    "def subtract(matrix, subarray):\n",
    "    j = 0\n",
    "    mat = np.copy(matrix) \n",
    "    while j < len(matrix): \n",
    "        line = mat[j]\n",
    "        i = 0\n",
    "        while i < 34:\n",
    "            line[i] = line[i] - subarray[i]\n",
    "            i = i + 1\n",
    "        mat[j] = line\n",
    "        j = j + 1\n",
    "    return matrix\n",
    "\n",
    "matrix = turnIntoMatrix(\"dermatology.data.treated\")\n",
    "training, test = getRandomDataSet(matrix, 0.7)\n",
    "trainingSet = np.array(training)"
   ]
  },
  {
   "cell_type": "markdown",
   "metadata": {},
   "source": [
    "## Aqui temos as funções do Kmeans e algumas funções auxiliares para a computação"
   ]
  },
  {
   "cell_type": "code",
   "execution_count": 2,
   "metadata": {
    "scrolled": true
   },
   "outputs": [],
   "source": [
    "#escolhe pontos randomicos para inicializar as centroides\n",
    "def centroides(k, matriz):\n",
    "    number_of_rows = matriz.shape[0]\n",
    "    random_indices = np.random.choice(number_of_rows, size=k, replace=False)\n",
    "    centroide = matriz[random_indices, :]\n",
    "    return centroide\n",
    "\n",
    "def distancia_centroide(centroide, sample):\n",
    "    dist = np.array([])\n",
    "    for i in range(len(centroide)):\n",
    "        dist = np.append(dist, euclideanDistance(centroide[i], sample))\n",
    "    return dist\n",
    "\n",
    "def Kmeans(k, r, trainingSet):\n",
    "    centroide = centroides(k,trainingSet[:,:34])\n",
    "    cluster = lista = [[] for _ in range(len(centroide))]\n",
    "    for t in range(r):\n",
    "        clusterAnterior = copy.deepcopy(cluster)\n",
    "        centroideAnterior = copy.deepcopy(centroide)\n",
    "        cluster = lista = [[] for _ in range(len(centroide))]\n",
    "        for i in range(len(trainingSet)):\n",
    "            distancias = distancia_centroide(centroide, trainingSet[i,:34]).tolist()\n",
    "            index = distancias.index(min(distancias))\n",
    "            cluster[index].append(trainingSet[i].tolist())\n",
    "   \n",
    "        for i in range(len(cluster)):\n",
    "            if len(cluster[i])!= 0:\n",
    "                v = np.array(cluster[i][0][:34])\n",
    "                for j in range(1, len(cluster[i])):\n",
    "                    v = v + np.array(cluster[i][j][:34])\n",
    "                centroide[i] = v/len(v)\n",
    "            else:\n",
    "                number_of_rows = len(trainingSet)\n",
    "                random_indices = np.random.choice(number_of_rows, size=1, replace=False)\n",
    "                centroide[i] = trainingSet[random_indices, :34]\n",
    "        if t == r-1:\n",
    "            return (clusterAnterior, centroideAnterior)\n",
    "            "
   ]
  },
  {
   "cell_type": "markdown",
   "metadata": {},
   "source": [
    "## Calculo das matrizes Sw e Sb para a computação do índice Ja"
   ]
  },
  {
   "cell_type": "code",
   "execution_count": 3,
   "metadata": {},
   "outputs": [],
   "source": [
    "###Para um cluster e uma centroide\n",
    "def calc_sw(centroide, cluster, num_features):\n",
    "    Sw = np.zeros((num_features,num_features))\n",
    "    for i in range(len(cluster)):\n",
    "        aux = np.zeros((num_features, num_features))\n",
    "        for j in cluster:\n",
    "            vetor = j[:num_features] - centroide[:num_features]\n",
    "            #PARA MULTIPLICAR O VETOR POR SUA TRANSPOSTA uma vez que numpy.transpose() não funciona\n",
    "            for h in range(len(vetor)):\n",
    "                for l in range(len(vetor)):\n",
    "                    aux[h][l] = vetor[h]*vetor[l]\n",
    "        Sw = Sw + aux \n",
    "    return Sw\n",
    "\n",
    "def calc_sb(centroides,clusters, mean, num_features):\n",
    "    Sb = np.zeros((num_features, num_features))\n",
    "    for x in range(len(centroides)):\n",
    "        aux = np.zeros((num_features, num_features))\n",
    "        vetor = centroides[x][:num_features] - mean[:num_features] \n",
    "        for i in range(len(vetor)):\n",
    "            for j in range(len(vetor)): \n",
    "                aux[i][j] = vetor[i]*vetor[j] \n",
    "        Sb = Sb + len(clusters[x])*aux \n",
    "    return Sb \n",
    "\n",
    "###Para vários cluster e várias centroides\n",
    "def calc_sw2(centroides, clusters, num_features): \n",
    "    Sw = np.zeros((num_features,num_features))\n",
    "    for i in range(len(clusters)):\n",
    "        if len(clusters[i]) >= 1:\n",
    "            Sw = Sw + calc_sw(centroides[i], clusters[i], num_features)\n",
    "    return Sw \n",
    "        "
   ]
  },
  {
   "cell_type": "markdown",
   "metadata": {},
   "source": [
    "## Alguns testes para SW"
   ]
  },
  {
   "cell_type": "code",
   "execution_count": 4,
   "metadata": {},
   "outputs": [
    {
     "data": {
      "text/plain": [
       "array([[9., 9., 9.],\n",
       "       [9., 9., 9.],\n",
       "       [9., 9., 9.]])"
      ]
     },
     "execution_count": 4,
     "metadata": {},
     "output_type": "execute_result"
    }
   ],
   "source": [
    "Ck = np.array([[1,2,3],\n",
    "              [4,5,6]])\n",
    "centroide = np.array([2.5,3.5,4.5])\n",
    "\n",
    "Clusters = np.array([Ck, Ck])\n",
    "Centroides = np.array([centroide, centroide])\n",
    "###EXEMPLO############\n",
    "calc_sw2(Centroides, Clusters, 3)"
   ]
  },
  {
   "cell_type": "code",
   "execution_count": 5,
   "metadata": {},
   "outputs": [
    {
     "data": {
      "text/plain": [
       "array([ 3.34323529e+02,  2.13107266e+02,  2.71730104e+02,  4.15735294e+01,\n",
       "        1.54218858e+02,  9.02984429e+01,  3.71470588e+01,  5.90077855e+01,\n",
       "        1.51564879e+02,  1.54215398e+02, -2.99480969e+00,  6.20873702e+01,\n",
       "       -7.13555363e+01,  1.10711938e+02,  7.44628028e+01,  5.34584775e+01,\n",
       "        2.98854671e+02,  1.28995675e+02,  2.31467993e+02,  1.60910900e+02,\n",
       "        3.03873702e+02,  2.32685986e+02, -2.06513841e+01,  1.22723183e+02,\n",
       "        6.08330450e+01,  1.64333910e+02,  6.49576125e+01, -1.51423010e+02,\n",
       "        7.79368512e+01,  2.52811419e+01,  2.37915225e+01,  2.65686851e+02,\n",
       "        8.09956747e+01,  3.61490398e+03])"
      ]
     },
     "execution_count": 5,
     "metadata": {},
     "output_type": "execute_result"
    }
   ],
   "source": [
    "###Exemplo com o Kmeans##############\n",
    "cluster, centroide = Kmeans(10, 5, trainingSet)\n",
    "Sw = calc_sw2(centroide, cluster, 34)\n",
    "Sw[0]"
   ]
  },
  {
   "cell_type": "markdown",
   "metadata": {},
   "source": [
    "## Alguns testes para SB"
   ]
  },
  {
   "cell_type": "code",
   "execution_count": 6,
   "metadata": {},
   "outputs": [
    {
     "name": "stdout",
     "output_type": "stream",
     "text": [
      "[5 7 9]\n",
      "[[25. 35. 45.]\n",
      " [35. 49. 63.]\n",
      " [45. 63. 81.]]\n"
     ]
    }
   ],
   "source": [
    "#Teste SB simples\n",
    "average = Ck.sum(axis=0)\n",
    "print(average)\n",
    "print(calc_sb(Centroides, Clusters, average, 3))"
   ]
  },
  {
   "cell_type": "code",
   "execution_count": 7,
   "metadata": {},
   "outputs": [
    {
     "name": "stdout",
     "output_type": "stream",
     "text": [
      "[ 2.05179283  1.78087649  1.51394422  1.39442231  0.66533865  0.4501992\n",
      "  0.17928287  0.39442231  0.56972112  0.55378486  0.11952191  0.39840637\n",
      "  0.14741036  0.50199203  0.31474104  1.39840637  1.92031873  0.5059761\n",
      "  1.25896414  0.66533865  0.99203187  0.66932271  0.27888446  0.38645418\n",
      "  0.42231076  0.46215139  0.45418327  0.95219124  0.46215139  0.10358566\n",
      "  0.11952191  1.90039841  0.56573705 35.93625498  2.77290837]\n"
     ]
    },
    {
     "data": {
      "text/plain": [
       "array([[2.60502578e+02, 2.44233585e+02, 1.93255180e+02, ...,\n",
       "        2.64930699e+02, 8.91767153e+01, 3.06357143e+03],\n",
       "       [2.44233585e+02, 2.32574088e+02, 1.79417110e+02, ...,\n",
       "        2.49085320e+02, 8.43262797e+01, 2.71487450e+03],\n",
       "       [1.93255180e+02, 1.79417110e+02, 1.47247443e+02, ...,\n",
       "        1.96144584e+02, 6.95310764e+01, 2.64286166e+03],\n",
       "       ...,\n",
       "       [2.64930699e+02, 2.49085320e+02, 1.96144584e+02, ...,\n",
       "        2.72930775e+02, 9.38050635e+01, 3.18673893e+03],\n",
       "       [8.91767153e+01, 8.43262797e+01, 6.95310764e+01, ...,\n",
       "        9.38050635e+01, 5.59216387e+01, 1.66523492e+03],\n",
       "       [3.06357143e+03, 2.71487450e+03, 2.64286166e+03, ...,\n",
       "        3.18673893e+03, 1.66523492e+03, 7.75389158e+04]])"
      ]
     },
     "execution_count": 7,
     "metadata": {},
     "output_type": "execute_result"
    }
   ],
   "source": [
    "###Exemplo Sb com o Kmeans##############\n",
    "average = trainingSet.sum(axis=0)/len(trainingSet)\n",
    "print(average)\n",
    "calc_sb(centroide, cluster, average, 34)"
   ]
  },
  {
   "cell_type": "markdown",
   "metadata": {},
   "source": [
    "## Testando valor do Ja"
   ]
  },
  {
   "cell_type": "code",
   "execution_count": 8,
   "metadata": {},
   "outputs": [
    {
     "name": "stdout",
     "output_type": "stream",
     "text": [
      "1.626603203164583e+16\n"
     ]
    }
   ],
   "source": [
    "##Exemplo de traço \n",
    "Sw = calc_sw2(centroide, cluster, 34)\n",
    "Sb = calc_sb(centroide, cluster, average, 34)\n",
    "Ja = np.outer(np.linalg.inv(Sw),Sb).trace()\n",
    "print(Ja)"
   ]
  },
  {
   "cell_type": "markdown",
   "metadata": {},
   "source": [
    "## Finalmente o experimento"
   ]
  },
  {
   "cell_type": "code",
   "execution_count": 9,
   "metadata": {},
   "outputs": [],
   "source": [
    "#Função para o teste\n",
    "def teste_avaliacao(Kmax, Rmax, trainingSet):\n",
    "    Jvetor = np.zeros(Kmax)\n",
    "    mean = trainingSet.sum(axis=0)/len(trainingSet)\n",
    "    for k in range(2, Kmax):\n",
    "        Ja = 0\n",
    "        for r in range(Rmax):\n",
    "            #print(r)\n",
    "            cluster, centroide = Kmeans(k, 5, trainingSet)\n",
    "            Sw = calc_sw2(centroide, cluster,len(trainingSet[0])-1)\n",
    "            #print(Sw)\n",
    "            Sb = calc_sb(centroide, cluster, mean, len(trainingSet[0])-1)\n",
    "            #print(Sb)\n",
    "            Ja = Ja + np.outer(np.linalg.inv(Sw),Sb).trace()\n",
    "            \n",
    "        Ja = Ja/Rmax\n",
    "        print(\"K  #\"+str(k)+\"Ja = \"+str(Ja))\n",
    "        Jvetor[k] = Ja\n",
    "    return Jvetor"
   ]
  },
  {
   "cell_type": "code",
   "execution_count": 10,
   "metadata": {},
   "outputs": [
    {
     "name": "stdout",
     "output_type": "stream",
     "text": [
      "[[-54.94917902  -1.40846535   2.        ]\n",
      " [ -8.1071768    2.5491008    1.        ]\n",
      " [-26.11824493  -4.95064643   3.        ]\n",
      " ...\n",
      " [-28.15214415  -5.67659903   3.        ]\n",
      " [-50.11537343  -4.92401007   3.        ]\n",
      " [-35.10571892   4.67647919   1.        ]]\n"
     ]
    }
   ],
   "source": [
    "###Reduzindo matriz com PCA para redução da computação\n",
    "reducedMatrix, _, _ = pca(np.array(matrix), 2)\n",
    "print(reducedMatrix)"
   ]
  },
  {
   "cell_type": "code",
   "execution_count": 11,
   "metadata": {},
   "outputs": [
    {
     "name": "stdout",
     "output_type": "stream",
     "text": [
      "K  #2Ja = -7205914375732.72\n",
      "K  #3Ja = -6965717229874.919\n",
      "K  #4Ja = -7205914375732.72\n",
      "K  #5Ja = -6725520084017.052\n",
      "K  #6Ja = -5284337208851.209\n",
      "K  #7Ja = -6245125792256.726\n",
      "K  #8Ja = -4803942917109.549\n",
      "K  #9Ja = -2642168604065.299\n",
      "K  #10Ja = -2161774312662.0828\n",
      "K  #11Ja = -1681380018834.0564\n",
      "K  #12Ja = -1441182868606.4204\n",
      "K  #13Ja = -1200985729208.4832\n",
      "K  #14Ja = 18.405741544837003\n",
      "K  #15Ja = -240197143549.60477\n",
      "[ 0.00000000e+00  0.00000000e+00 -7.20591438e+12 -6.96571723e+12\n",
      " -7.20591438e+12 -6.72552008e+12 -5.28433721e+12 -6.24512579e+12\n",
      " -4.80394292e+12 -2.64216860e+12 -2.16177431e+12 -1.68138002e+12\n",
      " -1.44118287e+12 -1.20098573e+12  1.84057415e+01 -2.40197144e+11]\n"
     ]
    }
   ],
   "source": [
    "##Experimento \n",
    "Kmax = 16\n",
    "Rmax = 30\n",
    "Jvetor = teste_avaliacao(Kmax, Rmax, reducedMatrix)\n",
    "print(Jvetor)"
   ]
  },
  {
   "cell_type": "code",
   "execution_count": 12,
   "metadata": {},
   "outputs": [
    {
     "data": {
      "image/png": "[encoded data removed]",
      "text/plain": [
       "<Figure size 432x288 with 1 Axes>"
      ]
     },
     "metadata": {
      "needs_background": "light"
     },
     "output_type": "display_data"
    },
    {
     "name": "stdout",
     "output_type": "stream",
     "text": [
      "18.405741544837003\n"
     ]
    }
   ],
   "source": [
    "import matplotlib.pyplot\n",
    "index = np.array(range(2,16))\n",
    "matplotlib.pyplot.plot(index, Jvetor[2:])\n",
    "matplotlib.pyplot.xlabel('Valor de K')\n",
    "matplotlib.pyplot.ylabel('Ja')\n",
    "\n",
    "matplotlib.pyplot.show()\n",
    "print(max(Jvetor))"
   ]
  },
  {
   "cell_type": "markdown",
   "metadata": {},
   "source": [
    "## Concluindo então que"
   ]
  },
  {
   "cell_type": "code",
   "execution_count": 16,
   "metadata": {},
   "outputs": [
    {
     "name": "stdout",
     "output_type": "stream",
     "text": [
      "O melhor valor de é K= 14\n"
     ]
    }
   ],
   "source": [
    "###########OBTENDO O Ja de valor máximo correspondente ao melhor valor de K para nosso experimento#############\n",
    "print(\"O melhor valor de é K=\", Jvetor[2:].argmax(axis=0)+2)"
   ]
  },
  {
   "cell_type": "code",
   "execution_count": null,
   "metadata": {},
   "outputs": [],
   "source": []
  }
 ],
 "metadata": {
  "kernelspec": {
   "display_name": "Python 3",
   "language": "python",
   "name": "python3"
  },
  "language_info": {
   "codemirror_mode": {
    "name": "ipython",
    "version": 3
   },
   "file_extension": ".py",
   "mimetype": "text/x-python",
   "name": "python",
   "nbconvert_exporter": "python",
   "pygments_lexer": "ipython3",
   "version": "3.8.5"
  }
 },
 "nbformat": 4,
 "nbformat_minor": 4
}
